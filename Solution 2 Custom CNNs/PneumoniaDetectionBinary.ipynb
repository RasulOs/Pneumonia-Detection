{
 "cells": [
  {
   "cell_type": "code",
   "execution_count": 57,
   "id": "a358e790",
   "metadata": {},
   "outputs": [],
   "source": [
    "import os\n",
    "import pandas as pd\n",
    "import numpy as np\n",
    "import matplotlib.pyplot as plt\n",
    "from sklearn import preprocessing\n",
    "from sklearn.model_selection import train_test_split\n",
    "from sklearn.metrics import classification_report\n",
    "from PIL import Image"
   ]
  },
  {
   "cell_type": "code",
   "execution_count": 58,
   "id": "45228fc7",
   "metadata": {},
   "outputs": [],
   "source": [
    "DATASET_PATH = \"dataset_32/\"\n",
    "\n",
    "LABEL_NORMAL = 0\n",
    "LABEL_ABNORMAL = 1\n",
    "\n",
    "AUGMENT_THRESHOLD=6000\n",
    "AUGMENT_MULTIPLIER=0\n",
    "\n",
    "BATCH_COUNT=16\n",
    "EPOCH_COUNT=5\n",
    "LEARNING_RATE=0.001\n",
    "\n",
    "MODEL_FILE_NAME=\"pneumonia_binary_model.pth\""
   ]
  },
  {
   "cell_type": "code",
   "execution_count": 59,
   "id": "2149a601",
   "metadata": {},
   "outputs": [
    {
     "data": {
      "image/png": "[encoded data removed]",
      "text/plain": [
       "<Figure size 640x480 with 1 Axes>"
      ]
     },
     "metadata": {},
     "output_type": "display_data"
    },
    {
     "data": {
      "image/png": "[encoded data removed]",
      "text/plain": [
       "<Figure size 640x480 with 1 Axes>"
      ]
     },
     "metadata": {},
     "output_type": "display_data"
    },
    {
     "data": {
      "image/png": "[encoded data removed]",
      "text/plain": [
       "<Figure size 640x480 with 1 Axes>"
      ]
     },
     "metadata": {},
     "output_type": "display_data"
    }
   ],
   "source": [
    "# demo images\n",
    "\n",
    "normal_train_image = Image.open(DATASET_PATH + \"normal_train_0.png\")\n",
    "bacteria_train_image = Image.open(DATASET_PATH + \"bacteria_train_0.png\")\n",
    "virus_train_image = Image.open(DATASET_PATH + \"virus_train_0.png\")\n",
    "\n",
    "plt.axis(\"off\")\n",
    "plt.imshow(normal_train_image)\n",
    "plt.show()\n",
    "\n",
    "plt.axis(\"off\")\n",
    "plt.imshow(bacteria_train_image)\n",
    "plt.show()\n",
    "\n",
    "plt.axis(\"off\")\n",
    "plt.imshow(virus_train_image)\n",
    "plt.show()"
   ]
  },
  {
   "cell_type": "code",
   "execution_count": 60,
   "id": "4067702c",
   "metadata": {},
   "outputs": [],
   "source": [
    "import torch\n",
    "import torch.nn as nn\n",
    "import torch.optim as optim\n",
    "from torch.utils.data import DataLoader\n",
    "from torch.utils.data import Dataset\n",
    "import torchvision.transforms as transforms\n",
    "import torchvision.models as models"
   ]
  },
  {
   "cell_type": "code",
   "execution_count": 61,
   "id": "7ddac9c5",
   "metadata": {},
   "outputs": [],
   "source": [
    "def AugmentImagesByCategory(category, multiplier, threshold, transformBuffer):\n",
    "    imageList = []\n",
    "    imageCount = 0\n",
    "    \n",
    "    for subdir, dirs, files in os.walk(DATASET_PATH):\n",
    "        for file in files:\n",
    "            if file.find(category) != -1:\n",
    "                imageCount += 1\n",
    "                imageList.append(DATASET_PATH + file)\n",
    "                \n",
    "    if imageCount < threshold:\n",
    "        for i in range(multiplier):\n",
    "            for image in imageList:\n",
    "                image_buffer = Image.open(image)\n",
    "                new_image = transformBuffer(image_buffer)\n",
    "                x = image.split(\"_\")\n",
    "                new_image.save(\"{}_{}_{}_{}.png\".format(x[0], x[1], x[2], imageCount))\n",
    "                imageCount += 1\n",
    "                    \n",
    "    print(\"After augmentation we have {} images for category {}\".format(imageCount, category))"
   ]
  },
  {
   "cell_type": "code",
   "execution_count": 62,
   "id": "8b212560",
   "metadata": {},
   "outputs": [
    {
     "name": "stdout",
     "output_type": "stream",
     "text": [
      "After augmentation we have 5364 images for category normal_train\n",
      "After augmentation we have 10120 images for category bacteria_train\n",
      "After augmentation we have 5380 images for category virus_train\n"
     ]
    }
   ],
   "source": [
    "transformBuffer = transforms.Compose([\n",
    "    transforms.RandomRotation(10),\n",
    "    transforms.ColorJitter(brightness=0.1),\n",
    "    transforms.RandomAffine(degrees=0, scale=(0.8, 1.2), shear=10)\n",
    "])\n",
    "\n",
    "AugmentImagesByCategory(\"normal_train\", AUGMENT_MULTIPLIER, AUGMENT_THRESHOLD, transformBuffer)\n",
    "AugmentImagesByCategory(\"bacteria_train\", AUGMENT_MULTIPLIER, AUGMENT_THRESHOLD, transformBuffer)\n",
    "AugmentImagesByCategory(\"virus_train\", AUGMENT_MULTIPLIER, AUGMENT_THRESHOLD, transformBuffer)"
   ]
  },
  {
   "cell_type": "code",
   "execution_count": 63,
   "id": "638bcca9",
   "metadata": {},
   "outputs": [],
   "source": [
    "class PneumoniaDataset(Dataset):\n",
    "    def __init__(self, category, multiplier=1, transformBuffer=None):\n",
    "        self.category = category\n",
    "        self.transformBuffer = transformBuffer\n",
    "        \n",
    "        self.count = 0\n",
    "        self.buffer = []\n",
    "        \n",
    "        for subdir, dirs, files in os.walk(DATASET_PATH):\n",
    "            for file in files:\n",
    "                if file.find(category) != -1:\n",
    "                    self.buffer.append(DATASET_PATH + file)\n",
    "                    self.count += 1\n",
    "                    \n",
    "        print(\"[DEBUG] Found {} examples to {}\".format(self.count, self.category))\n",
    "\n",
    "    def __len__(self):\n",
    "        return self.count\n",
    "\n",
    "    def __getitem__(self, index):\n",
    "        image_path = self.buffer[index]\n",
    "        label = None\n",
    "        \n",
    "        if image_path.find(\"normal\") != -1:\n",
    "            label = LABEL_NORMAL\n",
    "        elif image_path.find(\"bacteria\") != -1 or image_path.find(\"virus\") != -1:\n",
    "            label = LABEL_ABNORMAL\n",
    " \n",
    "        image = Image.open(image_path)\n",
    "\n",
    "        if self.transformBuffer is not None:\n",
    "            image = self.transformBuffer(image)\n",
    "\n",
    "        return image, label"
   ]
  },
  {
   "cell_type": "code",
   "execution_count": 64,
   "id": "7dfcde9b",
   "metadata": {},
   "outputs": [
    {
     "name": "stdout",
     "output_type": "stream",
     "text": [
      "[DEBUG] Found 20864 examples to train\n",
      "[DEBUG] Found 624 examples to test\n"
     ]
    }
   ],
   "source": [
    "training_dataset = PneumoniaDataset(\"train\", 1, transforms.Compose([ transforms.ToTensor() ]))\n",
    "test_dataset = PneumoniaDataset(\"test\", 1, transforms.Compose([ transforms.ToTensor() ]))"
   ]
  },
  {
   "cell_type": "code",
   "execution_count": 65,
   "id": "381027d1",
   "metadata": {},
   "outputs": [],
   "source": [
    "class XRayClassifier(nn.Module):\n",
    "    def __init__(self):\n",
    "        super(XRayClassifier, self).__init__()\n",
    "        \n",
    "        self.conv1 = nn.Conv2d(1, 32, kernel_size=3, stride=1, padding=1)\n",
    "        self.relu1 = nn.ReLU()\n",
    "        self.pool1 = nn.MaxPool2d(kernel_size=2, stride=2)\n",
    "        \n",
    "        self.conv2 = nn.Conv2d(32, 64, kernel_size=3, stride=1, padding=1)\n",
    "        self.relu2 = nn.ReLU()\n",
    "        self.pool2 = nn.MaxPool2d(kernel_size=2, stride=2)\n",
    "        \n",
    "        self.conv3 = nn.Conv2d(64, 128, kernel_size=3, stride=1, padding=1)\n",
    "        self.relu3 = nn.ReLU()\n",
    "        self.pool3 = nn.MaxPool2d(kernel_size=2, stride=2)\n",
    "        \n",
    "        self.conv4 = nn.Conv2d(128, 256, kernel_size=3, stride=1, padding=1)\n",
    "        self.relu4 = nn.ReLU()\n",
    "        self.pool4 = nn.MaxPool2d(kernel_size=2, stride=2)\n",
    "        \n",
    "        self.fc1 = nn.Linear(1024, 32)\n",
    "        self.relu5 = nn.ReLU()\n",
    "        self.dropout1 = nn.Dropout(0.5)\n",
    "        \n",
    "        self.fc2 = nn.Linear(32, 2)\n",
    "\n",
    "\n",
    "    def forward(self, x):\n",
    "        x = self.conv1(x)\n",
    "        x = self.relu1(x)\n",
    "        x = self.pool1(x)\n",
    "        \n",
    "        x = self.conv2(x)\n",
    "        x = self.relu2(x)\n",
    "        x = self.pool2(x)\n",
    "        \n",
    "        x = self.conv3(x)\n",
    "        x = self.relu3(x)\n",
    "        x = self.pool3(x)\n",
    "        \n",
    "        x = self.conv4(x)\n",
    "        x = self.relu4(x)\n",
    "        x = self.pool4(x)\n",
    "        \n",
    "        x = x.view(x.size(0), -1)  # Flatten the tensor\n",
    "        \n",
    "        x = self.fc1(x)\n",
    "        x = self.relu5(x)\n",
    "        x = self.dropout1(x)\n",
    "        \n",
    "        x = self.fc2(x)\n",
    "        return x"
   ]
  },
  {
   "cell_type": "code",
   "execution_count": 66,
   "id": "39d3d326",
   "metadata": {},
   "outputs": [],
   "source": [
    "def trainModel(training_dataset, batchSize, epochCount, learningRate, loadFromDisk=False):\n",
    "    model = XRayClassifier()\n",
    "    model.train()\n",
    "    \n",
    "    if loadFromDisk:\n",
    "        model.load_state_dict(torch.load(MODEL_FILE_NAME))\n",
    "    \n",
    "    criterion = nn.CrossEntropyLoss()\n",
    "    optimizer = optim.Adam(model.parameters(), lr=learningRate)\n",
    "\n",
    "    dataset = training_dataset\n",
    "    dataloader = DataLoader(dataset, batch_size=batchSize, shuffle=True)\n",
    "\n",
    "    loss_buffer = []\n",
    "    \n",
    "    for epoch in range(epochCount):\n",
    "        running_loss = 0.0\n",
    "        for i, data in enumerate(dataloader):\n",
    "            inputs, labels = data\n",
    "\n",
    "            optimizer.zero_grad()\n",
    "\n",
    "            outputs = model(inputs)\n",
    "            loss = criterion(outputs, labels)\n",
    "\n",
    "            loss.backward()\n",
    "            optimizer.step()\n",
    "\n",
    "            running_loss += loss.item()\n",
    "\n",
    "        average_loss = running_loss / len(dataloader)\n",
    "        print(f\"Epoch [{epoch+1}/{epochCount}], Loss: {average_loss:.4f}\")\n",
    "        loss_buffer.append(average_loss)\n",
    "        torch.save(model.state_dict(), MODEL_FILE_NAME)\n",
    "    return loss_buffer"
   ]
  },
  {
   "cell_type": "code",
   "execution_count": 67,
   "id": "3974f306",
   "metadata": {},
   "outputs": [],
   "source": [
    "def testModel(batchSize, testing_dataset):\n",
    "    model = XRayClassifier()\n",
    "    model.load_state_dict(torch.load(MODEL_FILE_NAME))\n",
    "    model.eval()\n",
    "\n",
    "    dataset = testing_dataset\n",
    "    dataloader = DataLoader(dataset, batch_size=batchSize, shuffle=False)\n",
    "    \n",
    "    correct = 0\n",
    "    total = 0\n",
    "\n",
    "    with torch.no_grad():\n",
    "        for images, labels in dataloader:\n",
    "\n",
    "            outputs = model(images)\n",
    "            _, predicted = torch.max(outputs.data, 1)\n",
    "\n",
    "            total += labels.size(0)\n",
    "            correct += (predicted == labels).sum().item()\n",
    "\n",
    "    accuracy = 100 * correct / total\n",
    "    return accuracy"
   ]
  },
  {
   "cell_type": "code",
   "execution_count": 68,
   "id": "57d9e57e",
   "metadata": {},
   "outputs": [
    {
     "name": "stdout",
     "output_type": "stream",
     "text": [
      "Epoch [1/5], Loss: 0.3170\n",
      "Epoch [2/5], Loss: 0.1570\n",
      "Epoch [3/5], Loss: 0.1292\n",
      "Epoch [4/5], Loss: 0.1099\n",
      "Epoch [5/5], Loss: 0.0943\n",
      "Training took 168 seconds, or 3 minutes\n",
      "Model accuracy is 82.05%\n"
     ]
    },
    {
     "data": {
      "image/png": "[encoded data removed]",
      "text/plain": [
       "<Figure size 640x480 with 1 Axes>"
      ]
     },
     "metadata": {},
     "output_type": "display_data"
    }
   ],
   "source": [
    "import time\n",
    "\n",
    "\n",
    "t0 = time.time()\n",
    "loss_buffer = trainModel(training_dataset, \n",
    "                         batchSize=BATCH_COUNT,\n",
    "                         epochCount=EPOCH_COUNT,\n",
    "                         learningRate=LEARNING_RATE,\n",
    "                         loadFromDisk=False)\n",
    "t1 = time.time()\n",
    "\n",
    "print(f\"Training took {(t1 - t0):.0f} seconds, or {((t1 - t0) / 60):.0f} minutes\")\n",
    "    \n",
    "accuracy = testModel(BATCH_COUNT, test_dataset)\n",
    "print(f\"Model accuracy is {accuracy:.2f}%\")\n",
    "    \n",
    "epochs = range(1, len(loss_buffer) + 1)\n",
    "plt.plot(epochs, loss_buffer)\n",
    "plt.title('Average Loss Curve')\n",
    "plt.xlabel('Epochs')\n",
    "plt.ylabel('Average Loss')\n",
    "plt.show()"
   ]
  },
  {
   "cell_type": "code",
   "execution_count": 69,
   "id": "aff8c3fe",
   "metadata": {},
   "outputs": [],
   "source": [
    "import numpy as np\n",
    "import matplotlib.pyplot as plt\n",
    "from sklearn.metrics import confusion_matrix\n",
    "import seaborn as sns"
   ]
  },
  {
   "cell_type": "code",
   "execution_count": 70,
   "id": "f2ccd889",
   "metadata": {},
   "outputs": [],
   "source": [
    "def testAndBuildConfusionMatrixForModel(batchSize, testing_dataset):\n",
    "    model = XRayClassifier()\n",
    "    model.load_state_dict(torch.load(MODEL_FILE_NAME))\n",
    "    model.eval()\n",
    "\n",
    "    dataset = testing_dataset\n",
    "    dataloader = DataLoader(dataset, batch_size=batchSize, shuffle=False)\n",
    "\n",
    "    correct = 0\n",
    "    total = 0\n",
    "    predicted_labels = []\n",
    "    true_labels = []\n",
    "\n",
    "    with torch.no_grad():\n",
    "        for images, labels in dataloader:\n",
    "            outputs = model(images)\n",
    "            _, predicted = torch.max(outputs.data, 1)\n",
    "\n",
    "            total += labels.size(0)\n",
    "            correct += (predicted == labels).sum().item()\n",
    "\n",
    "            predicted_labels.extend(predicted.tolist())\n",
    "            true_labels.extend(labels.tolist())\n",
    "\n",
    "    accuracy = 100 * correct / total\n",
    "    \n",
    "    cm = confusion_matrix(true_labels, predicted_labels)\n",
    "    \n",
    "    classes = [ \"Healthy\", \"Diseased\" ]\n",
    "    plt.figure(figsize=(10, 8))\n",
    "    sns.heatmap(cm, annot=True, cmap=\"Blues\", fmt=\"d\", xticklabels=classes, yticklabels=classes)\n",
    "    plt.title(\"Confusion Matrix\")\n",
    "    plt.xlabel(\"Predicted Label\")\n",
    "    plt.ylabel(\"True Label\")\n",
    "    plt.show()"
   ]
  },
  {
   "cell_type": "code",
   "execution_count": 71,
   "id": "77f42174",
   "metadata": {},
   "outputs": [
    {
     "data": {
      "image/png": "[encoded data removed]",
      "text/plain": [
       "<Figure size 1000x800 with 2 Axes>"
      ]
     },
     "metadata": {},
     "output_type": "display_data"
    }
   ],
   "source": [
    "testAndBuildConfusionMatrixForModel(BATCH_COUNT, test_dataset)"
   ]
  },
  {
   "cell_type": "code",
   "execution_count": null,
   "id": "21df68e3",
   "metadata": {},
   "outputs": [],
   "source": []
  }
 ],
 "metadata": {
  "kernelspec": {
   "display_name": "Python 3 (ipykernel)",
   "language": "python",
   "name": "python3"
  },
  "language_info": {
   "codemirror_mode": {
    "name": "ipython",
    "version": 3
   },
   "file_extension": ".py",
   "mimetype": "text/x-python",
   "name": "python",
   "nbconvert_exporter": "python",
   "pygments_lexer": "ipython3",
   "version": "3.11.3"
  }
 },
 "nbformat": 4,
 "nbformat_minor": 5
}
